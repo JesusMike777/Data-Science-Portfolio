{
 "cells": [
  {
   "cell_type": "markdown",
   "metadata": {},
   "source": [
    "https://www.kaggle.com/datasets/vijayashreer/food-preferences"
   ]
  },
  {
   "cell_type": "code",
   "execution_count": null,
   "metadata": {},
   "outputs": [],
   "source": [
    "#ESTE ES EL DATAFRAME DE UNA ENCUESTA DE COMIDA "
   ]
  },
  {
   "cell_type": "code",
   "execution_count": 2,
   "metadata": {},
   "outputs": [],
   "source": [
    "import pandas as pd\n",
    "import matplotlib.pyplot as plt"
   ]
  },
  {
   "cell_type": "code",
   "execution_count": 3,
   "metadata": {},
   "outputs": [
    {
     "data": {
      "text/html": [
       "<div>\n",
       "<style scoped>\n",
       "    .dataframe tbody tr th:only-of-type {\n",
       "        vertical-align: middle;\n",
       "    }\n",
       "\n",
       "    .dataframe tbody tr th {\n",
       "        vertical-align: top;\n",
       "    }\n",
       "\n",
       "    .dataframe thead th {\n",
       "        text-align: right;\n",
       "    }\n",
       "</style>\n",
       "<table border=\"1\" class=\"dataframe\">\n",
       "  <thead>\n",
       "    <tr style=\"text-align: right;\">\n",
       "      <th></th>\n",
       "      <th>Timestamp</th>\n",
       "      <th>Participant_ID</th>\n",
       "      <th>Gender</th>\n",
       "      <th>Nationality</th>\n",
       "      <th>Age</th>\n",
       "      <th>Food</th>\n",
       "      <th>Juice</th>\n",
       "      <th>Dessert</th>\n",
       "    </tr>\n",
       "  </thead>\n",
       "  <tbody>\n",
       "    <tr>\n",
       "      <th>0</th>\n",
       "      <td>2019/05/07 2:59:13 PM GMT+8</td>\n",
       "      <td>FPS001</td>\n",
       "      <td>Male</td>\n",
       "      <td>Indian</td>\n",
       "      <td>24</td>\n",
       "      <td>Traditional food</td>\n",
       "      <td>Fresh Juice</td>\n",
       "      <td>Maybe</td>\n",
       "    </tr>\n",
       "    <tr>\n",
       "      <th>1</th>\n",
       "      <td>2019/05/07 2:59:45 PM GMT+8</td>\n",
       "      <td>FPS002</td>\n",
       "      <td>Female</td>\n",
       "      <td>Indian</td>\n",
       "      <td>22</td>\n",
       "      <td>Western Food</td>\n",
       "      <td>Carbonated drinks</td>\n",
       "      <td>Yes</td>\n",
       "    </tr>\n",
       "    <tr>\n",
       "      <th>2</th>\n",
       "      <td>2019/05/07 3:00:05 PM GMT+8</td>\n",
       "      <td>FPS003</td>\n",
       "      <td>Male</td>\n",
       "      <td>Indian</td>\n",
       "      <td>31</td>\n",
       "      <td>Western Food</td>\n",
       "      <td>Fresh Juice</td>\n",
       "      <td>Maybe</td>\n",
       "    </tr>\n",
       "    <tr>\n",
       "      <th>3</th>\n",
       "      <td>2019/05/07 3:00:11 PM GMT+8</td>\n",
       "      <td>FPS004</td>\n",
       "      <td>Female</td>\n",
       "      <td>Indian</td>\n",
       "      <td>25</td>\n",
       "      <td>Traditional food</td>\n",
       "      <td>Fresh Juice</td>\n",
       "      <td>Maybe</td>\n",
       "    </tr>\n",
       "    <tr>\n",
       "      <th>4</th>\n",
       "      <td>2019/05/07 3:02:50 PM GMT+8</td>\n",
       "      <td>FPS005</td>\n",
       "      <td>Male</td>\n",
       "      <td>Indian</td>\n",
       "      <td>27</td>\n",
       "      <td>Traditional food</td>\n",
       "      <td>Fresh Juice</td>\n",
       "      <td>Maybe</td>\n",
       "    </tr>\n",
       "  </tbody>\n",
       "</table>\n",
       "</div>"
      ],
      "text/plain": [
       "                     Timestamp Participant_ID  Gender Nationality  Age  \\\n",
       "0  2019/05/07 2:59:13 PM GMT+8         FPS001    Male      Indian   24   \n",
       "1  2019/05/07 2:59:45 PM GMT+8         FPS002  Female      Indian   22   \n",
       "2  2019/05/07 3:00:05 PM GMT+8         FPS003    Male      Indian   31   \n",
       "3  2019/05/07 3:00:11 PM GMT+8         FPS004  Female      Indian   25   \n",
       "4  2019/05/07 3:02:50 PM GMT+8         FPS005    Male      Indian   27   \n",
       "\n",
       "               Food              Juice Dessert  \n",
       "0  Traditional food        Fresh Juice   Maybe  \n",
       "1      Western Food  Carbonated drinks     Yes  \n",
       "2      Western Food        Fresh Juice   Maybe  \n",
       "3  Traditional food        Fresh Juice   Maybe  \n",
       "4  Traditional food        Fresh Juice   Maybe  "
      ]
     },
     "execution_count": 3,
     "metadata": {},
     "output_type": "execute_result"
    }
   ],
   "source": [
    "food= pd.read_csv('Food_Preference.csv') #la columna Gender podria ser 'categorica' al igual que 'Food' and 'Juice'\n",
    "food.head()"
   ]
  },
  {
   "cell_type": "code",
   "execution_count": 4,
   "metadata": {},
   "outputs": [
    {
     "name": "stdout",
     "output_type": "stream",
     "text": [
      "<class 'pandas.core.frame.DataFrame'>\n",
      "RangeIndex: 288 entries, 0 to 287\n",
      "Data columns (total 8 columns):\n",
      " #   Column          Non-Null Count  Dtype \n",
      "---  ------          --------------  ----- \n",
      " 0   Timestamp       288 non-null    object\n",
      " 1   Participant_ID  288 non-null    object\n",
      " 2   Gender          284 non-null    object\n",
      " 3   Nationality     288 non-null    object\n",
      " 4   Age             288 non-null    int64 \n",
      " 5   Food            288 non-null    object\n",
      " 6   Juice           288 non-null    object\n",
      " 7   Dessert         288 non-null    object\n",
      "dtypes: int64(1), object(7)\n",
      "memory usage: 18.1+ KB\n"
     ]
    }
   ],
   "source": [
    "food.info() #al parecer solo gender tiene 4 valores nulos o faltantes\n",
    "            "
   ]
  },
  {
   "cell_type": "code",
   "execution_count": 5,
   "metadata": {},
   "outputs": [
    {
     "data": {
      "text/plain": [
       "Timestamp         object\n",
       "Participant_ID    object\n",
       "Gender            object\n",
       "Nationality       object\n",
       "Age                int64\n",
       "Food              object\n",
       "Juice             object\n",
       "Dessert           object\n",
       "dtype: object"
      ]
     },
     "execution_count": 5,
     "metadata": {},
     "output_type": "execute_result"
    }
   ],
   "source": [
    "food.dtypes  #otra forma de ver los tipos de datos"
   ]
  },
  {
   "cell_type": "code",
   "execution_count": 6,
   "metadata": {},
   "outputs": [
    {
     "data": {
      "text/html": [
       "<div>\n",
       "<style scoped>\n",
       "    .dataframe tbody tr th:only-of-type {\n",
       "        vertical-align: middle;\n",
       "    }\n",
       "\n",
       "    .dataframe tbody tr th {\n",
       "        vertical-align: top;\n",
       "    }\n",
       "\n",
       "    .dataframe thead th {\n",
       "        text-align: right;\n",
       "    }\n",
       "</style>\n",
       "<table border=\"1\" class=\"dataframe\">\n",
       "  <thead>\n",
       "    <tr style=\"text-align: right;\">\n",
       "      <th></th>\n",
       "      <th>Timestamp</th>\n",
       "      <th>Gender</th>\n",
       "      <th>Nationality</th>\n",
       "      <th>Age</th>\n",
       "      <th>Food</th>\n",
       "      <th>Juice</th>\n",
       "      <th>Dessert</th>\n",
       "    </tr>\n",
       "  </thead>\n",
       "  <tbody>\n",
       "    <tr>\n",
       "      <th>0</th>\n",
       "      <td>2019/05/07 2:59:13 PM GMT+8</td>\n",
       "      <td>Male</td>\n",
       "      <td>Indian</td>\n",
       "      <td>24</td>\n",
       "      <td>Traditional food</td>\n",
       "      <td>Fresh Juice</td>\n",
       "      <td>Maybe</td>\n",
       "    </tr>\n",
       "    <tr>\n",
       "      <th>1</th>\n",
       "      <td>2019/05/07 2:59:45 PM GMT+8</td>\n",
       "      <td>Female</td>\n",
       "      <td>Indian</td>\n",
       "      <td>22</td>\n",
       "      <td>Western Food</td>\n",
       "      <td>Carbonated drinks</td>\n",
       "      <td>Yes</td>\n",
       "    </tr>\n",
       "    <tr>\n",
       "      <th>2</th>\n",
       "      <td>2019/05/07 3:00:05 PM GMT+8</td>\n",
       "      <td>Male</td>\n",
       "      <td>Indian</td>\n",
       "      <td>31</td>\n",
       "      <td>Western Food</td>\n",
       "      <td>Fresh Juice</td>\n",
       "      <td>Maybe</td>\n",
       "    </tr>\n",
       "    <tr>\n",
       "      <th>3</th>\n",
       "      <td>2019/05/07 3:00:11 PM GMT+8</td>\n",
       "      <td>Female</td>\n",
       "      <td>Indian</td>\n",
       "      <td>25</td>\n",
       "      <td>Traditional food</td>\n",
       "      <td>Fresh Juice</td>\n",
       "      <td>Maybe</td>\n",
       "    </tr>\n",
       "    <tr>\n",
       "      <th>4</th>\n",
       "      <td>2019/05/07 3:02:50 PM GMT+8</td>\n",
       "      <td>Male</td>\n",
       "      <td>Indian</td>\n",
       "      <td>27</td>\n",
       "      <td>Traditional food</td>\n",
       "      <td>Fresh Juice</td>\n",
       "      <td>Maybe</td>\n",
       "    </tr>\n",
       "  </tbody>\n",
       "</table>\n",
       "</div>"
      ],
      "text/plain": [
       "                     Timestamp  Gender Nationality  Age              Food  \\\n",
       "0  2019/05/07 2:59:13 PM GMT+8    Male      Indian   24  Traditional food   \n",
       "1  2019/05/07 2:59:45 PM GMT+8  Female      Indian   22      Western Food   \n",
       "2  2019/05/07 3:00:05 PM GMT+8    Male      Indian   31      Western Food   \n",
       "3  2019/05/07 3:00:11 PM GMT+8  Female      Indian   25  Traditional food   \n",
       "4  2019/05/07 3:02:50 PM GMT+8    Male      Indian   27  Traditional food   \n",
       "\n",
       "               Juice Dessert  \n",
       "0        Fresh Juice   Maybe  \n",
       "1  Carbonated drinks     Yes  \n",
       "2        Fresh Juice   Maybe  \n",
       "3        Fresh Juice   Maybe  \n",
       "4        Fresh Juice   Maybe  "
      ]
     },
     "execution_count": 6,
     "metadata": {},
     "output_type": "execute_result"
    }
   ],
   "source": [
    "#primero empezare por eliminar la columna 'Participant_Id' el axis= 1 es para indicar que borrare columna\n",
    "food.drop('Participant_ID', axis=1, inplace=True)#al usar inplace=True afectas directamente la columna borrandola\n",
    "food.head()"
   ]
  },
  {
   "cell_type": "code",
   "execution_count": 7,
   "metadata": {},
   "outputs": [
    {
     "data": {
      "text/html": [
       "<div>\n",
       "<style scoped>\n",
       "    .dataframe tbody tr th:only-of-type {\n",
       "        vertical-align: middle;\n",
       "    }\n",
       "\n",
       "    .dataframe tbody tr th {\n",
       "        vertical-align: top;\n",
       "    }\n",
       "\n",
       "    .dataframe thead th {\n",
       "        text-align: right;\n",
       "    }\n",
       "</style>\n",
       "<table border=\"1\" class=\"dataframe\">\n",
       "  <thead>\n",
       "    <tr style=\"text-align: right;\">\n",
       "      <th></th>\n",
       "      <th>Timestamp</th>\n",
       "      <th>Gender</th>\n",
       "      <th>Nationality</th>\n",
       "      <th>Age</th>\n",
       "      <th>Food</th>\n",
       "      <th>Juice</th>\n",
       "      <th>Dessert</th>\n",
       "    </tr>\n",
       "  </thead>\n",
       "  <tbody>\n",
       "    <tr>\n",
       "      <th>14</th>\n",
       "      <td>2019/05/07 3:09:06 PM GMT+8</td>\n",
       "      <td>NaN</td>\n",
       "      <td>Muslim</td>\n",
       "      <td>27</td>\n",
       "      <td>Traditional food</td>\n",
       "      <td>Fresh Juice</td>\n",
       "      <td>Yes</td>\n",
       "    </tr>\n",
       "    <tr>\n",
       "      <th>225</th>\n",
       "      <td>2019/05/08 1:03:16 PM GMT+8</td>\n",
       "      <td>NaN</td>\n",
       "      <td>Indian</td>\n",
       "      <td>30</td>\n",
       "      <td>Traditional food</td>\n",
       "      <td>Fresh Juice</td>\n",
       "      <td>Yes</td>\n",
       "    </tr>\n",
       "    <tr>\n",
       "      <th>268</th>\n",
       "      <td>2019/05/10 1:09:22 AM GMT+8</td>\n",
       "      <td>NaN</td>\n",
       "      <td>Indian</td>\n",
       "      <td>23</td>\n",
       "      <td>Traditional food</td>\n",
       "      <td>Fresh Juice</td>\n",
       "      <td>Yes</td>\n",
       "    </tr>\n",
       "    <tr>\n",
       "      <th>277</th>\n",
       "      <td>2019/05/10 1:46:27 AM GMT+8</td>\n",
       "      <td>NaN</td>\n",
       "      <td>Indian</td>\n",
       "      <td>26</td>\n",
       "      <td>Traditional food</td>\n",
       "      <td>Fresh Juice</td>\n",
       "      <td>Yes</td>\n",
       "    </tr>\n",
       "  </tbody>\n",
       "</table>\n",
       "</div>"
      ],
      "text/plain": [
       "                       Timestamp Gender Nationality  Age              Food  \\\n",
       "14   2019/05/07 3:09:06 PM GMT+8    NaN      Muslim   27  Traditional food   \n",
       "225  2019/05/08 1:03:16 PM GMT+8    NaN      Indian   30  Traditional food   \n",
       "268  2019/05/10 1:09:22 AM GMT+8    NaN      Indian   23  Traditional food   \n",
       "277  2019/05/10 1:46:27 AM GMT+8    NaN      Indian   26  Traditional food   \n",
       "\n",
       "           Juice Dessert  \n",
       "14   Fresh Juice     Yes  \n",
       "225  Fresh Juice     Yes  \n",
       "268  Fresh Juice     Yes  \n",
       "277  Fresh Juice     Yes  "
      ]
     },
     "execution_count": 7,
     "metadata": {},
     "output_type": "execute_result"
    }
   ],
   "source": [
    "#quiero ver esos 4 valores nulos o faltantes asi que hare una filtracion\n",
    "Gender_nulos= food[food['Gender'].isnull()]\n",
    "Gender_nulos\n",
    "#Voy a asumir que son gente que se considera no binaria haci que les asignare que esos 4 son 'No Binarios'"
   ]
  },
  {
   "cell_type": "code",
   "execution_count": 8,
   "metadata": {},
   "outputs": [
    {
     "name": "stdout",
     "output_type": "stream",
     "text": [
      "<class 'pandas.core.frame.DataFrame'>\n",
      "RangeIndex: 288 entries, 0 to 287\n",
      "Data columns (total 7 columns):\n",
      " #   Column       Non-Null Count  Dtype \n",
      "---  ------       --------------  ----- \n",
      " 0   Timestamp    288 non-null    object\n",
      " 1   Gender       288 non-null    object\n",
      " 2   Nationality  288 non-null    object\n",
      " 3   Age          288 non-null    int64 \n",
      " 4   Food         288 non-null    object\n",
      " 5   Juice        288 non-null    object\n",
      " 6   Dessert      288 non-null    object\n",
      "dtypes: int64(1), object(6)\n",
      "memory usage: 15.9+ KB\n"
     ]
    }
   ],
   "source": [
    "#ahora reemplazare los valores NaN por 'NonBinary'\n",
    "food['Gender'].fillna('NonBinary', inplace=True) #Al usar inplace=True, los cambios se aplican directamente al DataFrame food\n",
    "food.info()\n",
    "# tambien podria eliminar esas 4 filas con valores faltantes usando food=food.dropna()"
   ]
  },
  {
   "cell_type": "code",
   "execution_count": 9,
   "metadata": {},
   "outputs": [
    {
     "data": {
      "text/html": [
       "<div>\n",
       "<style scoped>\n",
       "    .dataframe tbody tr th:only-of-type {\n",
       "        vertical-align: middle;\n",
       "    }\n",
       "\n",
       "    .dataframe tbody tr th {\n",
       "        vertical-align: top;\n",
       "    }\n",
       "\n",
       "    .dataframe thead th {\n",
       "        text-align: right;\n",
       "    }\n",
       "</style>\n",
       "<table border=\"1\" class=\"dataframe\">\n",
       "  <thead>\n",
       "    <tr style=\"text-align: right;\">\n",
       "      <th></th>\n",
       "      <th>Timestamp</th>\n",
       "      <th>Gender</th>\n",
       "      <th>Nationality</th>\n",
       "      <th>Age</th>\n",
       "      <th>Food</th>\n",
       "      <th>Juice</th>\n",
       "      <th>Dessert</th>\n",
       "    </tr>\n",
       "  </thead>\n",
       "  <tbody>\n",
       "    <tr>\n",
       "      <th>14</th>\n",
       "      <td>2019/05/07 3:09:06 PM GMT+8</td>\n",
       "      <td>NonBinary</td>\n",
       "      <td>Muslim</td>\n",
       "      <td>27</td>\n",
       "      <td>Traditional food</td>\n",
       "      <td>Fresh Juice</td>\n",
       "      <td>Yes</td>\n",
       "    </tr>\n",
       "    <tr>\n",
       "      <th>225</th>\n",
       "      <td>2019/05/08 1:03:16 PM GMT+8</td>\n",
       "      <td>NonBinary</td>\n",
       "      <td>Indian</td>\n",
       "      <td>30</td>\n",
       "      <td>Traditional food</td>\n",
       "      <td>Fresh Juice</td>\n",
       "      <td>Yes</td>\n",
       "    </tr>\n",
       "    <tr>\n",
       "      <th>268</th>\n",
       "      <td>2019/05/10 1:09:22 AM GMT+8</td>\n",
       "      <td>NonBinary</td>\n",
       "      <td>Indian</td>\n",
       "      <td>23</td>\n",
       "      <td>Traditional food</td>\n",
       "      <td>Fresh Juice</td>\n",
       "      <td>Yes</td>\n",
       "    </tr>\n",
       "    <tr>\n",
       "      <th>277</th>\n",
       "      <td>2019/05/10 1:46:27 AM GMT+8</td>\n",
       "      <td>NonBinary</td>\n",
       "      <td>Indian</td>\n",
       "      <td>26</td>\n",
       "      <td>Traditional food</td>\n",
       "      <td>Fresh Juice</td>\n",
       "      <td>Yes</td>\n",
       "    </tr>\n",
       "  </tbody>\n",
       "</table>\n",
       "</div>"
      ],
      "text/plain": [
       "                       Timestamp     Gender Nationality  Age  \\\n",
       "14   2019/05/07 3:09:06 PM GMT+8  NonBinary      Muslim   27   \n",
       "225  2019/05/08 1:03:16 PM GMT+8  NonBinary      Indian   30   \n",
       "268  2019/05/10 1:09:22 AM GMT+8  NonBinary      Indian   23   \n",
       "277  2019/05/10 1:46:27 AM GMT+8  NonBinary      Indian   26   \n",
       "\n",
       "                 Food        Juice Dessert  \n",
       "14   Traditional food  Fresh Juice     Yes  \n",
       "225  Traditional food  Fresh Juice     Yes  \n",
       "268  Traditional food  Fresh Juice     Yes  \n",
       "277  Traditional food  Fresh Juice     Yes  "
      ]
     },
     "execution_count": 9,
     "metadata": {},
     "output_type": "execute_result"
    }
   ],
   "source": [
    "#ahora vere como estan con los valores actualizados las  filas que tiene el genero 'No Binario'\n",
    "filas_nobinarias= food[food['Gender']=='NonBinary']\n",
    "filas_nobinarias"
   ]
  },
  {
   "cell_type": "code",
   "execution_count": 10,
   "metadata": {},
   "outputs": [],
   "source": [
    "#ahora voy a ver que valores tienen algunas columnas"
   ]
  },
  {
   "cell_type": "code",
   "execution_count": 11,
   "metadata": {},
   "outputs": [
    {
     "data": {
      "text/plain": [
       "Nationality\n",
       "Indian         241\n",
       "Malaysian       10\n",
       "Indonesia        7\n",
       "Pakistani        3\n",
       "Japan            2\n",
       "MY               2\n",
       "Maldivian        2\n",
       "Pakistani        2\n",
       "Algerian         1\n",
       "Mauritian        1\n",
       "China            1\n",
       "Malaysia         1\n",
       "Indonesian       1\n",
       "Indonesain       1\n",
       "Seychellois      1\n",
       "Korean           1\n",
       "Malaysia         1\n",
       "Nigerian         1\n",
       "Canadian         1\n",
       "MALAYSIAN        1\n",
       "Indonesian       1\n",
       "Malaysian        1\n",
       "Maldivian        1\n",
       "Pakistan         1\n",
       "Muslim           1\n",
       "Tanzanian        1\n",
       "Yemen            1\n",
       "Name: count, dtype: int64"
      ]
     },
     "execution_count": 11,
     "metadata": {},
     "output_type": "execute_result"
    }
   ],
   "source": [
    "food['Nationality'].value_counts() "
   ]
  },
  {
   "cell_type": "code",
   "execution_count": 12,
   "metadata": {},
   "outputs": [
    {
     "data": {
      "text/plain": [
       "Food\n",
       "Traditional food    238\n",
       "Western Food         50\n",
       "Name: count, dtype: int64"
      ]
     },
     "execution_count": 12,
     "metadata": {},
     "output_type": "execute_result"
    }
   ],
   "source": [
    "food['Food'].value_counts()"
   ]
  },
  {
   "cell_type": "code",
   "execution_count": 13,
   "metadata": {},
   "outputs": [
    {
     "data": {
      "text/plain": [
       "Juice\n",
       "Fresh Juice          256\n",
       "Carbonated drinks     32\n",
       "Name: count, dtype: int64"
      ]
     },
     "execution_count": 13,
     "metadata": {},
     "output_type": "execute_result"
    }
   ],
   "source": [
    "food['Juice'].value_counts()"
   ]
  },
  {
   "cell_type": "code",
   "execution_count": 14,
   "metadata": {},
   "outputs": [
    {
     "data": {
      "text/plain": [
       "Dessert\n",
       "Maybe    122\n",
       "Yes      114\n",
       "No        52\n",
       "Name: count, dtype: int64"
      ]
     },
     "execution_count": 14,
     "metadata": {},
     "output_type": "execute_result"
    }
   ],
   "source": [
    "food['Dessert'].value_counts()"
   ]
  },
  {
   "cell_type": "code",
   "execution_count": 15,
   "metadata": {},
   "outputs": [
    {
     "data": {
      "text/plain": [
       "Age\n",
       "25    23\n",
       "24    20\n",
       "27    18\n",
       "30    15\n",
       "28    14\n",
       "23    14\n",
       "40    12\n",
       "26    12\n",
       "38    11\n",
       "21    11\n",
       "19    10\n",
       "22    10\n",
       "33     9\n",
       "37     8\n",
       "34     8\n",
       "20     7\n",
       "35     7\n",
       "31     7\n",
       "29     6\n",
       "39     6\n",
       "42     5\n",
       "36     5\n",
       "13     4\n",
       "45     4\n",
       "54     4\n",
       "32     4\n",
       "50     3\n",
       "18     3\n",
       "9      3\n",
       "56     2\n",
       "80     2\n",
       "60     2\n",
       "16     2\n",
       "47     2\n",
       "12     1\n",
       "17     1\n",
       "44     1\n",
       "51     1\n",
       "49     1\n",
       "43     1\n",
       "65     1\n",
       "53     1\n",
       "74     1\n",
       "15     1\n",
       "8      1\n",
       "63     1\n",
       "67     1\n",
       "59     1\n",
       "46     1\n",
       "Name: count, dtype: int64"
      ]
     },
     "execution_count": 15,
     "metadata": {},
     "output_type": "execute_result"
    }
   ],
   "source": [
    "food['Age'].value_counts()"
   ]
  },
  {
   "cell_type": "code",
   "execution_count": 16,
   "metadata": {},
   "outputs": [
    {
     "data": {
      "text/plain": [
       "Gender\n",
       "Female       165\n",
       "Male         119\n",
       "NonBinary      4\n",
       "Name: count, dtype: int64"
      ]
     },
     "execution_count": 16,
     "metadata": {},
     "output_type": "execute_result"
    }
   ],
   "source": [
    "food['Gender'].value_counts()"
   ]
  },
  {
   "cell_type": "code",
   "execution_count": 17,
   "metadata": {},
   "outputs": [],
   "source": [
    "#algunas de las columnas solo tienen 2 o 3 valores asi que cambiare el tipo de dato de 'object' a 'category'"
   ]
  },
  {
   "cell_type": "code",
   "execution_count": 18,
   "metadata": {},
   "outputs": [
    {
     "data": {
      "text/plain": [
       "Timestamp        object\n",
       "Gender         category\n",
       "Nationality      object\n",
       "Age               int64\n",
       "Food           category\n",
       "Juice          category\n",
       "Dessert        category\n",
       "dtype: object"
      ]
     },
     "execution_count": 18,
     "metadata": {},
     "output_type": "execute_result"
    }
   ],
   "source": [
    "columnas_a_category=['Food', 'Juice', 'Dessert', 'Gender']\n",
    "\n",
    "food[columnas_a_category]= food[columnas_a_category].astype('category')\n",
    "\n",
    "food.dtypes"
   ]
  },
  {
   "cell_type": "code",
   "execution_count": 19,
   "metadata": {},
   "outputs": [
    {
     "data": {
      "text/html": [
       "<div>\n",
       "<style scoped>\n",
       "    .dataframe tbody tr th:only-of-type {\n",
       "        vertical-align: middle;\n",
       "    }\n",
       "\n",
       "    .dataframe tbody tr th {\n",
       "        vertical-align: top;\n",
       "    }\n",
       "\n",
       "    .dataframe thead th {\n",
       "        text-align: right;\n",
       "    }\n",
       "</style>\n",
       "<table border=\"1\" class=\"dataframe\">\n",
       "  <thead>\n",
       "    <tr style=\"text-align: right;\">\n",
       "      <th></th>\n",
       "      <th>Timestamp</th>\n",
       "      <th>Gender</th>\n",
       "      <th>Nationality</th>\n",
       "      <th>Age</th>\n",
       "      <th>Food</th>\n",
       "      <th>Juice</th>\n",
       "      <th>Dessert</th>\n",
       "    </tr>\n",
       "  </thead>\n",
       "  <tbody>\n",
       "    <tr>\n",
       "      <th>0</th>\n",
       "      <td>2019/05/07 2:59:13 PM GMT+8</td>\n",
       "      <td>Male</td>\n",
       "      <td>Indian</td>\n",
       "      <td>24</td>\n",
       "      <td>Traditional food</td>\n",
       "      <td>Fresh Juice</td>\n",
       "      <td>Maybe</td>\n",
       "    </tr>\n",
       "    <tr>\n",
       "      <th>1</th>\n",
       "      <td>2019/05/07 2:59:45 PM GMT+8</td>\n",
       "      <td>Female</td>\n",
       "      <td>Indian</td>\n",
       "      <td>22</td>\n",
       "      <td>Western Food</td>\n",
       "      <td>Carbonated drinks</td>\n",
       "      <td>Yes</td>\n",
       "    </tr>\n",
       "    <tr>\n",
       "      <th>2</th>\n",
       "      <td>2019/05/07 3:00:05 PM GMT+8</td>\n",
       "      <td>Male</td>\n",
       "      <td>Indian</td>\n",
       "      <td>31</td>\n",
       "      <td>Western Food</td>\n",
       "      <td>Fresh Juice</td>\n",
       "      <td>Maybe</td>\n",
       "    </tr>\n",
       "    <tr>\n",
       "      <th>3</th>\n",
       "      <td>2019/05/07 3:00:11 PM GMT+8</td>\n",
       "      <td>Female</td>\n",
       "      <td>Indian</td>\n",
       "      <td>25</td>\n",
       "      <td>Traditional food</td>\n",
       "      <td>Fresh Juice</td>\n",
       "      <td>Maybe</td>\n",
       "    </tr>\n",
       "    <tr>\n",
       "      <th>4</th>\n",
       "      <td>2019/05/07 3:02:50 PM GMT+8</td>\n",
       "      <td>Male</td>\n",
       "      <td>Indian</td>\n",
       "      <td>27</td>\n",
       "      <td>Traditional food</td>\n",
       "      <td>Fresh Juice</td>\n",
       "      <td>Maybe</td>\n",
       "    </tr>\n",
       "  </tbody>\n",
       "</table>\n",
       "</div>"
      ],
      "text/plain": [
       "                     Timestamp  Gender Nationality  Age              Food  \\\n",
       "0  2019/05/07 2:59:13 PM GMT+8    Male      Indian   24  Traditional food   \n",
       "1  2019/05/07 2:59:45 PM GMT+8  Female      Indian   22      Western Food   \n",
       "2  2019/05/07 3:00:05 PM GMT+8    Male      Indian   31      Western Food   \n",
       "3  2019/05/07 3:00:11 PM GMT+8  Female      Indian   25  Traditional food   \n",
       "4  2019/05/07 3:02:50 PM GMT+8    Male      Indian   27  Traditional food   \n",
       "\n",
       "               Juice Dessert  \n",
       "0        Fresh Juice   Maybe  \n",
       "1  Carbonated drinks     Yes  \n",
       "2        Fresh Juice   Maybe  \n",
       "3        Fresh Juice   Maybe  \n",
       "4        Fresh Juice   Maybe  "
      ]
     },
     "execution_count": 19,
     "metadata": {},
     "output_type": "execute_result"
    }
   ],
   "source": [
    "food.head()"
   ]
  },
  {
   "cell_type": "code",
   "execution_count": 20,
   "metadata": {},
   "outputs": [],
   "source": [
    "#ahora procedere a graficar con grafica de pastel, los generos "
   ]
  },
  {
   "cell_type": "code",
   "execution_count": 21,
   "metadata": {},
   "outputs": [
    {
     "data": {
      "text/plain": [
       "Gender\n",
       "Female       165\n",
       "Male         119\n",
       "NonBinary      4\n",
       "Name: count, dtype: int64"
      ]
     },
     "execution_count": 21,
     "metadata": {},
     "output_type": "execute_result"
    }
   ],
   "source": [
    "food['Gender'].value_counts() #con este metodo podemos ver cuantas personas fueron encuestadas por \n",
    "                                   #genero"
   ]
  },
  {
   "cell_type": "code",
   "execution_count": 27,
   "metadata": {},
   "outputs": [
    {
     "data": {
      "text/plain": [
       "<function matplotlib.pyplot.show(close=None, block=None)>"
      ]
     },
     "execution_count": 27,
     "metadata": {},
     "output_type": "execute_result"
    },
    {
     "data": {
      "image/png": "[encoded data removed]",
      "text/plain": [
       "<Figure size 600x600 with 1 Axes>"
      ]
     },
     "metadata": {},
     "output_type": "display_data"
    }
   ],
   "source": [
    "generos= food['Gender'].value_counts()\n",
    "#luego creamos la grafica 'pie'\n",
    "plt.figure(figsize=(6, 6))\n",
    "plt.pie(generos, labels=generos.index, autopct='%1.1f%%')\n",
    "plt.axis('equal')\n",
    "plt.title('GENEROS', y=1.08)\n",
    "plt.show"
   ]
  },
  {
   "cell_type": "code",
   "execution_count": null,
   "metadata": {},
   "outputs": [],
   "source": [
    "#la grafica pastel muestra que fueron mas las mujeres que fueron encuestadas"
   ]
  },
  {
   "cell_type": "code",
   "execution_count": 28,
   "metadata": {},
   "outputs": [],
   "source": [
    "#ahora graficare las nacionalidades\n",
    "conteos= food['Nationality'].value_counts()"
   ]
  },
  {
   "cell_type": "code",
   "execution_count": 33,
   "metadata": {},
   "outputs": [
    {
     "data": {
      "image/png": "[encoded data removed]",
      "text/plain": [
       "<Figure size 1000x1000 with 1 Axes>"
      ]
     },
     "metadata": {},
     "output_type": "display_data"
    }
   ],
   "source": [
    "#creare una grafica de barras horizontal\n",
    "plt.figure(figsize=(10, 10))\n",
    "conteos.plot(kind='barh')\n",
    "plt.xlabel('Número de Personas')\n",
    "plt.ylabel('Nacionalidad')\n",
    "plt.title('Distribución de Nacionalidades')\n",
    "plt.show()"
   ]
  },
  {
   "cell_type": "code",
   "execution_count": null,
   "metadata": {},
   "outputs": [],
   "source": [
    "#la grafica me demuestra que las personas que mas fueron encuestadas son las de india"
   ]
  },
  {
   "cell_type": "code",
   "execution_count": 38,
   "metadata": {},
   "outputs": [
    {
     "data": {
      "text/plain": [
       "Nationality\n",
       "Indian         83.680556\n",
       "Malaysian       3.472222\n",
       "Indonesia       2.430556\n",
       "Pakistani       1.041667\n",
       "Japan           0.694444\n",
       "MY              0.694444\n",
       "Maldivian       0.694444\n",
       "Pakistani       0.694444\n",
       "Algerian        0.347222\n",
       "Mauritian       0.347222\n",
       "China           0.347222\n",
       "Malaysia        0.347222\n",
       "Indonesian      0.347222\n",
       "Indonesain      0.347222\n",
       "Seychellois     0.347222\n",
       "Korean          0.347222\n",
       "Malaysia        0.347222\n",
       "Nigerian        0.347222\n",
       "Canadian        0.347222\n",
       "MALAYSIAN       0.347222\n",
       "Indonesian      0.347222\n",
       "Malaysian       0.347222\n",
       "Maldivian       0.347222\n",
       "Pakistan        0.347222\n",
       "Muslim          0.347222\n",
       "Tanzanian       0.347222\n",
       "Yemen           0.347222\n",
       "Name: proportion, dtype: float64"
      ]
     },
     "execution_count": 38,
     "metadata": {},
     "output_type": "execute_result"
    }
   ],
   "source": [
    "#el siguiente codigo es para mostrar el porcentaje de participacion de las nacionalidades de otra forma\n",
    "porcentaje= food['Nationality'].value_counts(normalize=True)*100\n",
    "porcentaje"
   ]
  },
  {
   "cell_type": "code",
   "execution_count": null,
   "metadata": {},
   "outputs": [],
   "source": [
    "#india fue el mas encuestado con un 83% de las personas ocupan esa encuesta"
   ]
  },
  {
   "cell_type": "code",
   "execution_count": 40,
   "metadata": {},
   "outputs": [
    {
     "data": {
      "image/png": "[encoded data removed]",
      "text/plain": [
       "<Figure size 800x600 with 1 Axes>"
      ]
     },
     "metadata": {},
     "output_type": "display_data"
    }
   ],
   "source": [
    "#por ultimo hare una grafica que muestre que tipo de comida prefieren mas los encuestados\n",
    "comidas= food['Food'].value_counts()\n",
    "\n",
    "plt.figure(figsize=(8, 6))\n",
    "comidas.plot(kind='bar', color=['red', 'yellow'])\n",
    "plt.xlabel('Tipo de Comida')\n",
    "plt.ylabel('Frecuencia')\n",
    "plt.title('Frecuencia de Tipos de Comida')\n",
    "plt.xticks(rotation=0)  # Para evitar la rotación de las etiquetas del eje x\n",
    "plt.show()"
   ]
  },
  {
   "cell_type": "code",
   "execution_count": null,
   "metadata": {},
   "outputs": [],
   "source": [
    "#aqui muestra que los encuestados('que la gran mayoria fueron de india y sus alrededores')\n",
    "#prefieren la comida tradicional de su pais, a la comida extranjera"
   ]
  }
 ],
 "metadata": {
  "kernelspec": {
   "display_name": "Python 3",
   "language": "python",
   "name": "python3"
  },
  "language_info": {
   "codemirror_mode": {
    "name": "ipython",
    "version": 3
   },
   "file_extension": ".py",
   "mimetype": "text/x-python",
   "name": "python",
   "nbconvert_exporter": "python",
   "pygments_lexer": "ipython3",
   "version": "3.11.6"
  }
 },
 "nbformat": 4,
 "nbformat_minor": 2
}
